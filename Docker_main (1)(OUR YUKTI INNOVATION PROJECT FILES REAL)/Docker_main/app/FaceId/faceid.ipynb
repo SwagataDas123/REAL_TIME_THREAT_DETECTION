{
 "cells": [
  {
   "cell_type": "code",
   "execution_count": 1,
   "metadata": {},
   "outputs": [
    {
     "name": "stderr",
     "output_type": "stream",
     "text": [
      "Using TensorFlow backend.\n"
     ]
    }
   ],
   "source": [
    "import numpy as np\n",
    "import imutils\n",
    "import cv2\n",
    "import os\n",
    "import time\n",
    "from PIL import Image\n",
    "from keras.applications.mobilenet_v2 import preprocess_input\n",
    "from keras.preprocessing.image import img_to_array\n",
    "from keras.preprocessing.image import load_img\n",
    "from keras.models import load_model\n",
    "from keras_facenet import FaceNet"
   ]
  },
  {
   "cell_type": "code",
   "execution_count": 7,
   "metadata": {},
   "outputs": [
    {
     "name": "stderr",
     "output_type": "stream",
     "text": [
      "Using TensorFlow backend.\n"
     ]
    }
   ],
   "source": [
    "from keras.applications.mobilenet_v2 import preprocess_input\n"
   ]
  },
  {
   "cell_type": "code",
   "execution_count": 2,
   "metadata": {},
   "outputs": [
    {
     "name": "stdout",
     "output_type": "stream",
     "text": [
      "[INFO] Loading Embedder...\n"
     ]
    }
   ],
   "source": [
    "print(\"[INFO] Loading Embedder...\")\n",
    "embedder = FaceNet()\n",
    "target = [0]*3"
   ]
  },
  {
   "cell_type": "code",
   "execution_count": 3,
   "metadata": {},
   "outputs": [
    {
     "name": "stdout",
     "output_type": "stream",
     "text": [
      "[INFO] Preparing Target Encodings...\n",
      "[INFO] Target Encodings Ready\n"
     ]
    }
   ],
   "source": [
    "print(\"[INFO] Preparing Target Encodings...\")\n",
    "enc =0\n",
    "for img in os.listdir('Target\\Ahmed_Kaif_Member'):\n",
    "    enc +=np.array((embedder.extract('Target\\Ahmed_Kaif_Member/'+img))[0]['embedding'])\n",
    "target[0] = enc/len(os.listdir('Target\\Ahmed_Kaif_Member'))\n",
    "\n",
    "enc =0\n",
    "for img in os.listdir('Target\\Swagata_Das_Member'):\n",
    "    enc +=np.array((embedder.extract('Target\\Swagata_Das_Member/'+img))[0]['embedding'])\n",
    "target[1] = enc/len(os.listdir('Target\\Swagata_Das_Member'))\n",
    "\n",
    "enc =0\n",
    "for img in os.listdir('Target\\Yukti_Butolia'):\n",
    "    enc +=np.array((embedder.extract('Target\\Yukti_Butolia/'+img))[0]['embedding'])\n",
    "target[2] = enc/len(os.listdir('Target\\Yukti_Butolia'))\n",
    "\n",
    "print(\"[INFO] Target Encodings Ready\")"
   ]
  },
  {
   "cell_type": "code",
   "execution_count": 4,
   "metadata": {},
   "outputs": [
    {
     "data": {
      "text/plain": [
       "0.3302307724952698"
      ]
     },
     "execution_count": 4,
     "metadata": {},
     "output_type": "execute_result"
    }
   ],
   "source": [
    "embedder.compute_distance(target[1],target[2])"
   ]
  },
  {
   "cell_type": "code",
   "execution_count": 4,
   "metadata": {},
   "outputs": [],
   "source": [
    "# set values for prototxt and .caffemodel which will be used to set up the model\n",
    "prototxt = 'openCV_DNN_Custom\\\\deploy.prototxt.txt'\n",
    "model = 'openCV_DNN_Custom\\\\res10_300x300_ssd_iter_140000.caffemodel'\n",
    "\n",
    "# Set confidence lvl for the face detection\n",
    "conf = 0.125"
   ]
  },
  {
   "cell_type": "code",
   "execution_count": 5,
   "metadata": {},
   "outputs": [],
   "source": [
    "# load Face Detector SSD model architecture and weights\n",
    "extractor = cv2.dnn.readNetFromCaffe(prototxt, model)\n",
    "\n",
    "# Target labels\n",
    "LABELS = [\"Ahmed_Kaif\",\"Swagata_Das\", \"Yukti_Butolia\"]"
   ]
  },
  {
   "cell_type": "code",
   "execution_count": 6,
   "metadata": {},
   "outputs": [
    {
     "name": "stdout",
     "output_type": "stream",
     "text": [
      "[INFO] starting video stream...\n",
      "1.1152613814092969\n",
      "[INFO] Closing Process...\n"
     ]
    }
   ],
   "source": [
    "cv2.namedWindow(\"Frame\", cv2.WINDOW_NORMAL)\n",
    "# resize OPENCV window size\n",
    "img_PATH ='test\\\\test1.jpg'\n",
    "# img_PATH ='Test_img/Crowd/pic1.jpg'\n",
    "# initialize camera stream\n",
    "print(\"[INFO] starting video stream...\")\n",
    "frame = cv2.imread(img_PATH)\n",
    "\n",
    "# read frame from camera and resize to 400 pixels\n",
    "\n",
    "frame = imutils.resize(frame, width=400)\n",
    "\n",
    "# grab the frame dimensions and convert it to a blob\n",
    "(h, w) = frame.shape[:2]\n",
    "blob = cv2.dnn.blobFromImage(cv2.resize(frame, (300, 300)), 1.0,\n",
    "    (300, 300), (104.0, 177.0, 123.0))\n",
    "\n",
    "start = time.time()\n",
    "# pass the blob through the network and obtain the detections and\n",
    "# predictions\n",
    "extractor.setInput(blob)\n",
    "detections = extractor.forward()\n",
    "\n",
    "end = time.time()\n",
    "# calculate the FPS for current frame detection\n",
    "fps = (end-start)\n",
    "\n",
    "# loop over the detections\n",
    "for i in range(0, detections.shape[2]):\n",
    "    # extract the confidence (i.e., probability) associated with the\n",
    "    # prediction\n",
    "    confidence = detections[0, 0, i, 2]\n",
    "\n",
    "    # filter out detections by confidence\n",
    "    if confidence < conf:\n",
    "        continue\n",
    "    cv2.imshow(\"Frame\", frame)\n",
    "    # compute the (x, y)-coordinates of the bounding box for the\n",
    "    # object\n",
    "    box = detections[0, 0, i, 3:7] * np.array([w, h, w, h])\n",
    "    (startX, startY, endX, endY) = box.astype(\"int\")\n",
    "    (startX, startY) = (max(0, startX), max(0, startY))\n",
    "    (endX, endY) = (min(w - 1, endX), min(h - 1, endY))\n",
    "    \n",
    "    # Preparing Face for classification\n",
    "    face = frame[startY:endY, startX:endX]\n",
    "    \n",
    "    # Performing Classification and measuring time for inference\n",
    "    start = time.time()\n",
    "    try:\n",
    "        embedding = np.array(embedder.embeddings([face]))\n",
    "    except:\n",
    "        continue\n",
    "    dis = [np.linalg.norm(embedding - i) for i in target]\n",
    "    ind = np.argmin(dis, axis=0)\n",
    "    #set_of_dis.append(dis)\n",
    "    end = time.time()\n",
    "    fps += (end-start)\n",
    "    \n",
    "    # ind = np.argmax(pred, axis=1)[0]   # Index of identified label\n",
    "    # pred_conf = pred.max(axis=1)[0]    # Confidence in class\n",
    "    color = (0,255,0)\n",
    "    pred_class = 'Unknown'\n",
    "    #print(ind)\n",
    "    if min(dis) <= 0.8 :\n",
    "        color = (0,0,255)\n",
    "        pred_class = LABELS[ind]\n",
    "        text = \"{}\".format(pred_class)   #, pred_conf * 100)\n",
    "        y = startY - 10 if startY - 10 > 10 else startY + 10\n",
    "        cv2.rectangle(frame, (startX, startY), (endX, endY),\n",
    "            color, 2)\n",
    "        cv2.putText(frame, text, (startX, y),\n",
    "            cv2.FONT_HERSHEY_SIMPLEX, 0.45, color, 2)\n",
    "        cv2.imshow(\"Frame\", frame)\n",
    "        continue\n",
    "    # draw the bounding box of the face along with the associated\n",
    "    # probability\n",
    "    #text = \"{}  :  {:.2f}\".format(pred_class, dis[ind])   #, pred_conf * 100)\n",
    "    y = startY - 10 if startY - 10 > 10 else startY + 10\n",
    "    cv2.rectangle(frame, (startX, startY), (endX, endY),\n",
    "        color, 2)\n",
    "    #cv2.putText(frame, text, (startX, y),cv2.FONT_HERSHEY_SIMPLEX, 0.45, color, 2)\n",
    "    cv2.imshow(\"Frame\", frame)\n",
    "    cv2.imwrite(\"faceID.jpg\", frame)\n",
    "\n",
    "fps = 1 / fps\n",
    "print(fps)\n",
    "#cv2.putText(frame, f\"{fps:.2f} FPS\", (20, 30), cv2.FONT_HERSHEY_SIMPLEX, 1, (255, 0, 0), 2)\n",
    "# show the output frame\n",
    "cv2.imshow(\"Frame\", frame)\n",
    "# Stop if escape key is pressed\n",
    "cv2.waitKey(0)\n",
    "\n",
    "\n",
    "# Destroy all the windows\n",
    "cv2.destroyAllWindows()\n",
    "\n",
    "print(\"[INFO] Closing Process...\")"
   ]
  },
  {
   "cell_type": "code",
   "execution_count": null,
   "metadata": {},
   "outputs": [],
   "source": []
  }
 ],
 "metadata": {
  "kernelspec": {
   "display_name": "Python 3",
   "language": "python",
   "name": "python3"
  },
  "language_info": {
   "codemirror_mode": {
    "name": "ipython",
    "version": 3
   },
   "file_extension": ".py",
   "mimetype": "text/x-python",
   "name": "python",
   "nbconvert_exporter": "python",
   "pygments_lexer": "ipython3",
   "version": "3.8.10"
  },
  "orig_nbformat": 4
 },
 "nbformat": 4,
 "nbformat_minor": 2
}
