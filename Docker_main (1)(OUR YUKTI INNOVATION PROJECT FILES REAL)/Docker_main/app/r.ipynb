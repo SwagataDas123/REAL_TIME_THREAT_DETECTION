{
 "cells": [
  {
   "cell_type": "code",
   "execution_count": 1,
   "metadata": {},
   "outputs": [
    {
     "ename": "AttributeError",
     "evalue": "module 'keras_facenet' has no attribute '__version__'",
     "output_type": "error",
     "traceback": [
      "\u001b[1;31m---------------------------------------------------------------------------\u001b[0m",
      "\u001b[1;31mAttributeError\u001b[0m                            Traceback (most recent call last)",
      "\u001b[1;32md:\\Project AKD sir\\Docker_main\\app\\r.ipynb Cell 1\u001b[0m in \u001b[0;36m<cell line: 2>\u001b[1;34m()\u001b[0m\n\u001b[0;32m      <a href='vscode-notebook-cell:/d%3A/Project%20AKD%20sir/Docker_main/app/r.ipynb#W0sZmlsZQ%3D%3D?line=0'>1</a>\u001b[0m \u001b[39mimport\u001b[39;00m \u001b[39mkeras_facenet\u001b[39;00m\n\u001b[1;32m----> <a href='vscode-notebook-cell:/d%3A/Project%20AKD%20sir/Docker_main/app/r.ipynb#W0sZmlsZQ%3D%3D?line=1'>2</a>\u001b[0m keras_facenet\u001b[39m.\u001b[39;49m__version__\n",
      "\u001b[1;31mAttributeError\u001b[0m: module 'keras_facenet' has no attribute '__version__'"
     ]
    }
   ],
   "source": [
    "import keras_facenet\n",
    "keras_facenet.__version__"
   ]
  },
  {
   "cell_type": "code",
   "execution_count": 2,
   "metadata": {},
   "outputs": [
    {
     "name": "stdout",
     "output_type": "stream",
     "text": [
      "Name: keras-facenet\n",
      "Version: 0.3.2\n",
      "Summary: A package wrapping the FaceNet embedding model\n",
      "Home-page: https://github.com/faustomorales/keras-facenet\n",
      "Author: Fausto Morales\n",
      "Author-email: faustomorales@gmail.com\n",
      "License: MIT\n",
      "Location: c:\\users\\ahmed kaif\\appdata\\roaming\\python\\python38\\site-packages\n",
      "Requires: mtcnn\n",
      "Required-by: \n"
     ]
    }
   ],
   "source": [
    "!pip show keras_facenet"
   ]
  },
  {
   "cell_type": "code",
   "execution_count": null,
   "metadata": {},
   "outputs": [],
   "source": []
  }
 ],
 "metadata": {
  "kernelspec": {
   "display_name": "Python 3",
   "language": "python",
   "name": "python3"
  },
  "language_info": {
   "codemirror_mode": {
    "name": "ipython",
    "version": 3
   },
   "file_extension": ".py",
   "mimetype": "text/x-python",
   "name": "python",
   "nbconvert_exporter": "python",
   "pygments_lexer": "ipython3",
   "version": "3.8.10"
  },
  "orig_nbformat": 4
 },
 "nbformat": 4,
 "nbformat_minor": 2
}
