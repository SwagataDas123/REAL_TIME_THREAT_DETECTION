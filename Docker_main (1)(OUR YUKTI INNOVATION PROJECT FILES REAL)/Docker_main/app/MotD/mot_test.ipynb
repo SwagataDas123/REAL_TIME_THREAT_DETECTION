{
 "cells": [
  {
   "cell_type": "code",
   "execution_count": 1,
   "metadata": {},
   "outputs": [],
   "source": [
    "import cv2"
   ]
  },
  {
   "cell_type": "code",
   "execution_count": 2,
   "metadata": {},
   "outputs": [],
   "source": [
    "vid_Path = 'test\\\\crowd moving green screen.mp4'"
   ]
  },
  {
   "cell_type": "code",
   "execution_count": 3,
   "metadata": {},
   "outputs": [
    {
     "name": "stdout",
     "output_type": "stream",
     "text": [
      "[USER] Set Buffer Region\n",
      "[INFO] Opening Camera...\n",
      "[USER] Buffer Region Set...\n"
     ]
    }
   ],
   "source": [
    "# Set Buffer Region\n",
    "print(\"[USER] Set Buffer Region\")\n",
    "# Initialize webcam\n",
    "cap = cv2.VideoCapture(vid_Path)\n",
    "ret, frame = cap.read()\n",
    "# Set initial line coordinates\n",
    "line1 = len(frame[0])//3\n",
    "line2 = line1 + len(frame[0])//3\n",
    "print(\"[INFO] Opening Camera...\")\n",
    "f = frame.copy()\n",
    "while True:\n",
    "    # Read a frame from the webcam\n",
    "    frame = f.copy()\n",
    "    if line1 <0 or line1>=  len(frame[0]):\n",
    "        line1 =0\n",
    "    # Draw the line on the frame\n",
    "    cv2.line(frame, (line1, 0), (line1, len(frame)), (0, 255, 0), 2)\n",
    "    cv2.putText(frame, 'Left Boundary', (20, 10), cv2.FONT_HERSHEY_SIMPLEX, 0.5, (255, 0, 0), 2)\n",
    "    cv2.putText(frame, 'A <- Move Left', (20, 25), cv2.FONT_HERSHEY_SIMPLEX, 0.5, (255, 0, 0), 2)\n",
    "    cv2.putText(frame, 'D -> Move Right', (20, 40), cv2.FONT_HERSHEY_SIMPLEX, 0.5, (255, 0, 0), 2)\n",
    "    cv2.putText(frame, 'Enter : Confirm', (20, 55), cv2.FONT_HERSHEY_SIMPLEX, 0.5, (255, 0, 0), 2)\n",
    "\n",
    "    # Display the frame\n",
    "    cv2.imshow(\"Set Buffer Region\", frame)\n",
    "\n",
    "    # Wait for a key event\n",
    "    key = cv2.waitKey(1) & 0xFF\n",
    "\n",
    "    # Handle key events\n",
    "    if key == 13:  # Press 'Enter' key to exit\n",
    "        break\n",
    "    if key == 27:  # Press 'Esc' key to exit\n",
    "        break\n",
    "    # elif key == 119:  # Press 'Up' arrow key\n",
    "    #     y1 -= 10\n",
    "    #     y2 -= 10\n",
    "    # elif key == 115:  # Press 'Down' arrow key\n",
    "    #     y1 += 10\n",
    "    #     y2 += 10\n",
    "    elif key == 97:  # Press 'Left' arrow key\n",
    "        line1 -= 10\n",
    "    elif key == 100:  # Press 'Right' arrow key\n",
    "        line1 += 10\n",
    "    elif key !=255:\n",
    "        print(key)\n",
    "\n",
    "while True:\n",
    "    # Read a frame from the webcam\n",
    "    frame = f.copy()\n",
    "    if line2<=line1 or line2 >= len(frame[0]):\n",
    "        line2 =line1+1\n",
    "    # Draw the line on the frame\n",
    "    cv2.line(frame, (line2, 0), (line2, len(frame)), (0, 255, 0), 2)\n",
    "    cv2.line(frame, (line1, 0), (line1, len(frame)), (0, 255, 255), 2)\n",
    "    cv2.putText(frame, 'Right Boundary', (20, 10), cv2.FONT_HERSHEY_SIMPLEX, 0.5, (255, 0, 0), 2)\n",
    "    cv2.putText(frame, 'A <- Move Left', (20, 25), cv2.FONT_HERSHEY_SIMPLEX, 0.5, (255, 0, 0), 2)\n",
    "    cv2.putText(frame, 'D -> Move Right', (20, 40), cv2.FONT_HERSHEY_SIMPLEX, 0.5, (255, 0, 0), 2)\n",
    "    cv2.putText(frame, 'Enter : Confirm', (20, 55), cv2.FONT_HERSHEY_SIMPLEX, 0.5, (255, 0, 0), 2)\n",
    "\n",
    "\n",
    "\n",
    "    # Display the frame\n",
    "    cv2.imshow(\"Set Buffer Region\", frame)\n",
    "\n",
    "    # Wait for a key event\n",
    "    key = cv2.waitKey(1) & 0xFF\n",
    "\n",
    "    # Handle key events\n",
    "    if key == 13:  # Press 'Enter' key to exit\n",
    "        break\n",
    "    if key == 27:  # Press 'Esc' key to exit\n",
    "        break\n",
    "    # elif key == 119:  # Press 'Up' arrow key\n",
    "    #     y1 -= 10\n",
    "    #     y2 -= 10\n",
    "    # elif key == 115:  # Press 'Down' arrow key\n",
    "    #     y1 += 10\n",
    "    #     y2 += 10\n",
    "    elif key == 97:  # Press 'Left' arrow key\n",
    "        line2 -= 10\n",
    "    elif key == 100:  # Press 'Right' arrow key\n",
    "        line2 += 10\n",
    "    elif key !=255:\n",
    "        print(key)\n",
    "\n",
    "# Release the webcam and close all windows\n",
    "cap.release()\n",
    "cv2.destroyAllWindows()\n",
    "\n",
    "#print(x1,x2, y1, y2)\n",
    "\n",
    "# W   119\n",
    "# S   115\n",
    "# A   97\n",
    "# D   100\n",
    "#enter  13\n",
    "\n",
    "print(\"[USER] Buffer Region Set...\")"
   ]
  },
  {
   "cell_type": "code",
   "execution_count": 5,
   "metadata": {},
   "outputs": [],
   "source": [
    "\n",
    "cap.release()\n",
    "cv2.destroyAllWindows()"
   ]
  },
  {
   "cell_type": "code",
   "execution_count": 33,
   "metadata": {},
   "outputs": [],
   "source": [
    "# save output video\n",
    "\n",
    "cap = cv2.VideoCapture(vid_Path)\n",
    "ret, frame = cap.read()\n",
    "\n",
    "path = \"Output.mp4\"\n",
    "fourcc = cv2.VideoWriter_fourcc(*'mp4v')\n",
    "output = cv2.VideoWriter(path, fourcc, 24,(len(frame[0]), len(frame)))\n",
    "\n",
    "cap.release()"
   ]
  },
  {
   "cell_type": "code",
   "execution_count": 4,
   "metadata": {},
   "outputs": [
    {
     "name": "stdout",
     "output_type": "stream",
     "text": [
      "[INFO] Loading cv2.BackgroundSubtractorMOG2...\n",
      "[INFO] Opening Camera...\n",
      "[INFO] Press Esc to close\n",
      "Key 'p' pressed - Perform an action!\n"
     ]
    },
    {
     "ename": "NameError",
     "evalue": "name 'output' is not defined",
     "output_type": "error",
     "traceback": [
      "\u001b[1;31m---------------------------------------------------------------------------\u001b[0m",
      "\u001b[1;31mNameError\u001b[0m                                 Traceback (most recent call last)",
      "\u001b[1;32md:\\Project AKD sir\\Docker_main\\app\\MotD\\mot_test.ipynb Cell 6\u001b[0m in \u001b[0;36m<cell line: 45>\u001b[1;34m()\u001b[0m\n\u001b[0;32m     <a href='vscode-notebook-cell:/d%3A/Project%20AKD%20sir/Docker_main/app/MotD/mot_test.ipynb#W5sZmlsZQ%3D%3D?line=41'>42</a>\u001b[0m         cv2\u001b[39m.\u001b[39mwaitKey(\u001b[39m-\u001b[39m\u001b[39m1\u001b[39m) \u001b[39m#wait until any key is pressed --- PAUSE VIDEO\u001b[39;00m\n\u001b[0;32m     <a href='vscode-notebook-cell:/d%3A/Project%20AKD%20sir/Docker_main/app/MotD/mot_test.ipynb#W5sZmlsZQ%3D%3D?line=43'>44</a>\u001b[0m video_capture\u001b[39m.\u001b[39mrelease()\n\u001b[1;32m---> <a href='vscode-notebook-cell:/d%3A/Project%20AKD%20sir/Docker_main/app/MotD/mot_test.ipynb#W5sZmlsZQ%3D%3D?line=44'>45</a>\u001b[0m output\u001b[39m.\u001b[39mrelease()\n\u001b[0;32m     <a href='vscode-notebook-cell:/d%3A/Project%20AKD%20sir/Docker_main/app/MotD/mot_test.ipynb#W5sZmlsZQ%3D%3D?line=45'>46</a>\u001b[0m cv2\u001b[39m.\u001b[39mdestroyAllWindows()\n\u001b[0;32m     <a href='vscode-notebook-cell:/d%3A/Project%20AKD%20sir/Docker_main/app/MotD/mot_test.ipynb#W5sZmlsZQ%3D%3D?line=47'>48</a>\u001b[0m \u001b[39mprint\u001b[39m(\u001b[39m\"\u001b[39m\u001b[39m[INFO] Closing Process...\u001b[39m\u001b[39m\"\u001b[39m)\n",
      "\u001b[1;31mNameError\u001b[0m: name 'output' is not defined"
     ]
    }
   ],
   "source": [
    "# Initialize video capture\n",
    "video_capture = cv2.VideoCapture(vid_Path)\n",
    "\n",
    "print(\"[INFO] Loading cv2.BackgroundSubtractorMOG2...\")\n",
    "bg_subtractor = cv2.createBackgroundSubtractorMOG2()\n",
    "print(\"[INFO] Opening Camera...\")\n",
    "\n",
    "print(\"[INFO] Press Esc to close\")\n",
    "while True:\n",
    "    ret, frame = video_capture.read()\n",
    "    if not ret: \n",
    "        break\n",
    "    RoI = frame[0:len(frame), line1:line2]\n",
    "    fg_mask = bg_subtractor.apply(RoI)\n",
    "    cv2.imshow(\"Structured element\", fg_mask)\n",
    "    fg_mask = cv2.morphologyEx(fg_mask, cv2.MORPH_OPEN, cv2.getStructuringElement(cv2.MORPH_ELLIPSE, (5, 5)))\n",
    "    thresh_frame = cv2.threshold(fg_mask, 30, 255, cv2.THRESH_BINARY)[1]\n",
    "    thresh_frame = cv2.dilate(thresh_frame, None, iterations = 2)\n",
    "    cv2.imshow(\"Pre contor\", thresh_frame)\n",
    "    contours, _ = cv2.findContours(thresh_frame, cv2.RETR_EXTERNAL, cv2.CHAIN_APPROX_SIMPLE)\n",
    "    \n",
    "    for contour in contours:\n",
    "        if cv2.contourArea(contour) > 3000:\n",
    "            x, y, w, h = cv2.boundingRect(contour)\n",
    "            cv2.rectangle(frame, (line1 + x, y), (line1 + x + w, y + h), (255, 0, 255), 2)\n",
    "    cv2.line(frame, (line2, 0), (line2, len(frame)), (0, 255, 255), 1)\n",
    "    cv2.line(frame, (line1, 0), (line1, len(frame)), (0, 255, 255), 1)\n",
    "\n",
    "    cv2.imshow(\"Motion Detection\", frame)\n",
    "    cv2.imshow(\"Background\", fg_mask)\n",
    "    # output.write(frame)\n",
    "    # Wait for a key press, but only for a short time (millisecond)\n",
    "    key = cv2.waitKey(24) & 0xFF\n",
    "    \n",
    "    # Check if the 'q'  or 'esc' key was pressed to exit the loop\n",
    "    if key == ord('q') or key == 27:\n",
    "        break\n",
    "\n",
    "    # Check if the 'p' key was pressed to perform a specific action\n",
    "    elif key == ord('p'):\n",
    "        print(\"Key 'p' pressed - Perform an action!\")\n",
    "        cv2.waitKey(-1) #wait until any key is pressed --- PAUSE VIDEO\n",
    "\n",
    "video_capture.release()\n",
    "#output.release()\n",
    "cv2.destroyAllWindows()\n",
    "\n",
    "print(\"[INFO] Closing Process...\")"
   ]
  },
  {
   "cell_type": "code",
   "execution_count": 6,
   "metadata": {},
   "outputs": [],
   "source": [
    "video_capture.release()\n",
    "#output.release()\n",
    "cv2.destroyAllWindows()"
   ]
  },
  {
   "cell_type": "code",
   "execution_count": null,
   "metadata": {},
   "outputs": [],
   "source": []
  }
 ],
 "metadata": {
  "kernelspec": {
   "display_name": "Python 3",
   "language": "python",
   "name": "python3"
  },
  "language_info": {
   "codemirror_mode": {
    "name": "ipython",
    "version": 3
   },
   "file_extension": ".py",
   "mimetype": "text/x-python",
   "name": "python",
   "nbconvert_exporter": "python",
   "pygments_lexer": "ipython3",
   "version": "3.8.10"
  },
  "orig_nbformat": 4
 },
 "nbformat": 4,
 "nbformat_minor": 2
}
